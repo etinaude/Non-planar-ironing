{
 "cells": [
  {
   "cell_type": "markdown",
   "metadata": {},
   "source": [
    "# Non-planar ironing script\n",
    "\n",
    "\n",
    "### Input Data\n",
    "\n",
    "This script creates a non planar ironing layer on top of a 3d print as a proof of concept. Given there are no rises in the y plane, then ironing can be achieved by splitting a model into rectangles, zigzagging back and forth between 2 y coordinates while incrementing the z and x coordinates.\n",
    "\n",
    "The input data need is lines of g-code in the following format\n",
    "\n",
    "```\n",
    "G1 X0 Y1 Z0 E0  ; FOR Y VALUE\n",
    "G1 X2 Y2 Z2 E0\n",
    "G1 X3 Y2 Z3 E0\n",
    "```\n",
    "\n",
    "* The value of E does not matter\n",
    "* All lines should be G1 Commands\n",
    "* The first line is only used for getting the secondary y value\n",
    "* all other lines generate a 2d curve and so the printer and follow the curve while oscillating between the 2 y values.\n"
   ]
  },
  {
   "cell_type": "code",
   "execution_count": 86,
   "metadata": {},
   "outputs": [
    {
     "name": "stdout",
     "output_type": "stream",
     "text": [
      "['G1 X0 Y107.280 Z0 E0\\n', 'G1 X90.220 Y92.720 Z11.940 E0\\n', 'G1 X109.725 Y92.775 Z2.160 E0']\n"
     ]
    }
   ],
   "source": [
    "# reads file and outputs data so you can ensure the data is correct\n",
    "\n",
    "line_gap = 0.05 # adjust for different ironing smoothness\n",
    "\n",
    "with open('input.gcode') as f:\n",
    "    lines = f.readlines()\n",
    "    \n",
    "    print(lines)"
   ]
  },
  {
   "cell_type": "markdown",
   "metadata": {},
   "source": [
    "### Finds 2 Y values to bounce between"
   ]
  },
  {
   "cell_type": "code",
   "execution_count": 87,
   "metadata": {},
   "outputs": [
    {
     "name": "stdout",
     "output_type": "stream",
     "text": [
      "107.28 92.72\n"
     ]
    }
   ],
   "source": [
    "line = lines[0].split(' ')\n",
    "\n",
    "y0 = float(line[2].replace('Y' ,''))\n",
    "\n",
    "line = lines[1].split(' ')\n",
    "y1 = float(line[2].replace('Y' ,''))\n",
    "lines.pop(0)\n",
    "\n",
    "print(y0, y1)\n"
   ]
  },
  {
   "cell_type": "markdown",
   "metadata": {},
   "source": [
    "### Generates an array of the needed coordinates\n",
    "\n",
    "Bounce between y while moving along the xz path, using the helper class point, and adding them to an array"
   ]
  },
  {
   "cell_type": "code",
   "execution_count": 88,
   "metadata": {},
   "outputs": [
    {
     "name": "stdout",
     "output_type": "stream",
     "text": [
      "['G1 X90.220 Y92.720 Z11.940 E0\\n', 'G1 X109.725 Y92.775 Z2.160 E0']\n"
     ]
    }
   ],
   "source": [
    "from point import Point\n",
    "\n",
    "grid = []\n",
    "y = y0\n",
    "\n",
    "for line in lines:\n",
    "    y = y0 if(y == y1) else y1\n",
    "\n",
    "\n",
    "    line = line.split(' ')\n",
    "    x= (float(line[1].replace('X' ,'')))\n",
    "    z = (float(line[3].replace('Z' ,'')))\n",
    "\n",
    "    point = Point(x, y, z, 0)\n",
    "\n",
    "    grid.append(point)\n",
    "    \n",
    "print(lines)\n",
    "    "
   ]
  },
  {
   "cell_type": "markdown",
   "metadata": {},
   "source": [
    "### Generate g code\n",
    "\n",
    "generates the final g-code for the ironing"
   ]
  },
  {
   "cell_type": "code",
   "execution_count": 89,
   "metadata": {},
   "outputs": [],
   "source": [
    "import copy\n",
    "\n",
    "\n",
    "z_offset = 0 # offset/inset from surface\n",
    "\n",
    "g_code = []\n",
    "\n",
    "\n",
    "for i in range(len(grid) - 1):\n",
    "    corner_a = grid[i]\n",
    "    corner_b = grid[i + 1]\n",
    "\n",
    "    # Go towards origin preventing scraping issues\n",
    "    [corner_b, corner_a] = corner_a.smaller(corner_b)\n",
    "\n",
    "    # find the number of lines needed to move between points using teh specified line_gap\n",
    "    number_of_zags = abs((corner_a.x-corner_b.x))/line_gap\n",
    "    z_gap = -((corner_a.z-corner_b.z)/number_of_zags)\n",
    "\n",
    "    # deep copy start of rectangle\n",
    "    current = copy.deepcopy(corner_a)\n",
    "    current.z += z_offset\n",
    "    \n",
    "\n",
    "    # zigzag until made it to final point\n",
    "    while(current.x > corner_b.x):\n",
    "        g_code.append(copy.deepcopy(current))\n",
    "        current.x -= line_gap\n",
    "        current.z += z_gap\n",
    "        g_code.append(copy.deepcopy(current))\n",
    "        current.y = corner_a.y if (corner_a.y != current.y ) else corner_b.y\n",
    "       \n",
    "# Lift extruder up\n",
    "final_point = copy.deepcopy(g_code[-1]) \n",
    "final_point.z = 20;\n",
    "g_code.append(final_point)\n",
    "        "
   ]
  },
  {
   "attachments": {},
   "cell_type": "markdown",
   "metadata": {},
   "source": [
    "### Write g code to file"
   ]
  },
  {
   "cell_type": "markdown",
   "metadata": {},
   "source": []
  },
  {
   "cell_type": "markdown",
   "metadata": {},
   "source": []
  },
  {
   "cell_type": "code",
   "execution_count": 90,
   "metadata": {},
   "outputs": [],
   "source": [
    "with open('output.gcode', \"w\") as f:\n",
    "    f.write(\"; line gap =\"+ str(line_gap)+ \"\\n\")\n",
    "    \n",
    "    \n",
    "    for(i, point) in enumerate(g_code):\n",
    "        lines = f.write(str(point) + \"\\n\")\n",
    "    \n",
    "    "
   ]
  },
  {
   "cell_type": "markdown",
   "metadata": {},
   "source": [
    "### Add gcode back into sliced version and view on a g code visualizer"
   ]
  }
 ],
 "metadata": {
  "kernelspec": {
   "display_name": "Python 3.10.5 64-bit",
   "language": "python",
   "name": "python3"
  },
  "language_info": {
   "codemirror_mode": {
    "name": "ipython",
    "version": 3
   },
   "file_extension": ".py",
   "mimetype": "text/x-python",
   "name": "python",
   "nbconvert_exporter": "python",
   "pygments_lexer": "ipython3",
   "version": "3.11.2"
  },
  "orig_nbformat": 4,
  "vscode": {
   "interpreter": {
    "hash": "e7370f93d1d0cde622a1f8e1c04877d8463912d04d973331ad4851f04de6915a"
   }
  }
 },
 "nbformat": 4,
 "nbformat_minor": 2
}
